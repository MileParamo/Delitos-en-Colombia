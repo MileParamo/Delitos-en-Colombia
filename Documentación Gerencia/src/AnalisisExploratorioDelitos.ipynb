{
 "cells": [
  {
   "cell_type": "markdown",
   "metadata": {},
   "source": [
    "# Análisis exploratorio de datos del dataset de delitos de mayor impacto en Colombia\n",
    "### Integrantes: Johanna Peña, Mario Gualy, Oscar Roncancio\n",
    "A continuación se realizará el análisis exploratorio de los datos de los delitos de mayor impacto en Colombia con fin de determinar que tan confiables están los datos"
   ]
  },
  {
   "cell_type": "markdown",
   "metadata": {},
   "source": [
    "### Imports necesarios"
   ]
  },
  {
   "cell_type": "code",
   "execution_count": 2,
   "metadata": {},
   "outputs": [],
   "source": [
    "import pandas as pd"
   ]
  },
  {
   "cell_type": "markdown",
   "metadata": {},
   "source": [
    "Importamos los archivos .csv y los unimos en un solo data frame de pandas"
   ]
  },
  {
   "cell_type": "code",
   "execution_count": 3,
   "metadata": {},
   "outputs": [
    {
     "name": "stderr",
     "output_type": "stream",
     "text": [
      "C:\\Users\\tlsdz\\AppData\\Local\\Temp\\ipykernel_23964\\720800977.py:4: DtypeWarning: Columns (6) have mixed types. Specify dtype option on import or set low_memory=False.\n",
      "  df = pd.read_csv(f'data/delitos{i}.csv',encoding='latin1')\n"
     ]
    },
    {
     "data": {
      "text/html": [
       "<div>\n",
       "<style scoped>\n",
       "    .dataframe tbody tr th:only-of-type {\n",
       "        vertical-align: middle;\n",
       "    }\n",
       "\n",
       "    .dataframe tbody tr th {\n",
       "        vertical-align: top;\n",
       "    }\n",
       "\n",
       "    .dataframe thead th {\n",
       "        text-align: right;\n",
       "    }\n",
       "</style>\n",
       "<table border=\"1\" class=\"dataframe\">\n",
       "  <thead>\n",
       "    <tr style=\"text-align: right;\">\n",
       "      <th></th>\n",
       "      <th>Id</th>\n",
       "      <th>Departamento</th>\n",
       "      <th>Municipio</th>\n",
       "      <th>Código DANE</th>\n",
       "      <th>Armas Medio</th>\n",
       "      <th>Fecha</th>\n",
       "      <th>Genero</th>\n",
       "      <th>Agrupaciones de edad</th>\n",
       "      <th>Cantidad Del Delito</th>\n",
       "      <th>Delito</th>\n",
       "      <th>ICON</th>\n",
       "    </tr>\n",
       "  </thead>\n",
       "  <tbody>\n",
       "    <tr>\n",
       "      <th>0</th>\n",
       "      <td>1</td>\n",
       "      <td>Huila</td>\n",
       "      <td>Campoalegre</td>\n",
       "      <td>41132000.0</td>\n",
       "      <td>No Reportado</td>\n",
       "      <td>1/1/2010</td>\n",
       "      <td>Femenino</td>\n",
       "      <td>Adultos</td>\n",
       "      <td>1.0</td>\n",
       "      <td>Abigeato</td>\n",
       "      <td>https://i.ibb.co/vvbGxC4/icons8-cow-48.png</td>\n",
       "    </tr>\n",
       "    <tr>\n",
       "      <th>1</th>\n",
       "      <td>2</td>\n",
       "      <td>Meta</td>\n",
       "      <td>San Juan De Arama</td>\n",
       "      <td>50683000.0</td>\n",
       "      <td>No Reportado</td>\n",
       "      <td>1/1/2010</td>\n",
       "      <td>Masculino</td>\n",
       "      <td>Adultos</td>\n",
       "      <td>1.0</td>\n",
       "      <td>Abigeato</td>\n",
       "      <td>https://i.ibb.co/vvbGxC4/icons8-cow-48.png</td>\n",
       "    </tr>\n",
       "    <tr>\n",
       "      <th>2</th>\n",
       "      <td>3</td>\n",
       "      <td>Boyacá</td>\n",
       "      <td>Belén</td>\n",
       "      <td>15087000.0</td>\n",
       "      <td>No Reportado</td>\n",
       "      <td>1/2/2010</td>\n",
       "      <td>Femenino</td>\n",
       "      <td>Adultos</td>\n",
       "      <td>1.0</td>\n",
       "      <td>Abigeato</td>\n",
       "      <td>https://i.ibb.co/vvbGxC4/icons8-cow-48.png</td>\n",
       "    </tr>\n",
       "    <tr>\n",
       "      <th>3</th>\n",
       "      <td>4</td>\n",
       "      <td>Casanare</td>\n",
       "      <td>Pore</td>\n",
       "      <td>85263000.0</td>\n",
       "      <td>No Reportado</td>\n",
       "      <td>1/2/2010</td>\n",
       "      <td>Masculino</td>\n",
       "      <td>Adultos</td>\n",
       "      <td>1.0</td>\n",
       "      <td>Abigeato</td>\n",
       "      <td>https://i.ibb.co/vvbGxC4/icons8-cow-48.png</td>\n",
       "    </tr>\n",
       "    <tr>\n",
       "      <th>4</th>\n",
       "      <td>5</td>\n",
       "      <td>Caldas</td>\n",
       "      <td>Neira</td>\n",
       "      <td>17486000.0</td>\n",
       "      <td>No Reportado</td>\n",
       "      <td>1/3/2010</td>\n",
       "      <td>Masculino</td>\n",
       "      <td>Adultos</td>\n",
       "      <td>1.0</td>\n",
       "      <td>Abigeato</td>\n",
       "      <td>https://i.ibb.co/vvbGxC4/icons8-cow-48.png</td>\n",
       "    </tr>\n",
       "    <tr>\n",
       "      <th>...</th>\n",
       "      <td>...</td>\n",
       "      <td>...</td>\n",
       "      <td>...</td>\n",
       "      <td>...</td>\n",
       "      <td>...</td>\n",
       "      <td>...</td>\n",
       "      <td>...</td>\n",
       "      <td>...</td>\n",
       "      <td>...</td>\n",
       "      <td>...</td>\n",
       "      <td>...</td>\n",
       "    </tr>\n",
       "    <tr>\n",
       "      <th>201384</th>\n",
       "      <td>5201385</td>\n",
       "      <td>Vichada</td>\n",
       "      <td>Puerto Carreño (Ct)</td>\n",
       "      <td>99001000.0</td>\n",
       "      <td>Sin Empleo De Armas</td>\n",
       "      <td>1/28/2023</td>\n",
       "      <td>Femenino</td>\n",
       "      <td>Menores</td>\n",
       "      <td>1.0</td>\n",
       "      <td>Delitos Sexuales</td>\n",
       "      <td>https://i.ibb.co/6J7TWHr/Delitos-sexuales.png</td>\n",
       "    </tr>\n",
       "    <tr>\n",
       "      <th>201385</th>\n",
       "      <td>5201386</td>\n",
       "      <td>Vichada</td>\n",
       "      <td>Santa Rosalía</td>\n",
       "      <td>99624000.0</td>\n",
       "      <td>Sin Empleo De Armas</td>\n",
       "      <td>1/4/2023</td>\n",
       "      <td>Femenino</td>\n",
       "      <td>Adolescentes</td>\n",
       "      <td>1.0</td>\n",
       "      <td>Delitos Sexuales</td>\n",
       "      <td>https://i.ibb.co/6J7TWHr/Delitos-sexuales.png</td>\n",
       "    </tr>\n",
       "    <tr>\n",
       "      <th>201386</th>\n",
       "      <td>5201387</td>\n",
       "      <td>Vichada</td>\n",
       "      <td>Santa Rosalía</td>\n",
       "      <td>99624000.0</td>\n",
       "      <td>Sin Empleo De Armas</td>\n",
       "      <td>1/4/2023</td>\n",
       "      <td>Femenino</td>\n",
       "      <td>Adolescentes</td>\n",
       "      <td>1.0</td>\n",
       "      <td>Delitos Sexuales</td>\n",
       "      <td>https://i.ibb.co/6J7TWHr/Delitos-sexuales.png</td>\n",
       "    </tr>\n",
       "    <tr>\n",
       "      <th>201387</th>\n",
       "      <td>5201388</td>\n",
       "      <td>Vichada</td>\n",
       "      <td>Santa Rosalía</td>\n",
       "      <td>99624000.0</td>\n",
       "      <td>Sin Empleo De Armas</td>\n",
       "      <td>5/8/2023</td>\n",
       "      <td>Femenino</td>\n",
       "      <td>Adolescentes</td>\n",
       "      <td>1.0</td>\n",
       "      <td>Delitos Sexuales</td>\n",
       "      <td>https://i.ibb.co/6J7TWHr/Delitos-sexuales.png</td>\n",
       "    </tr>\n",
       "    <tr>\n",
       "      <th>201388</th>\n",
       "      <td>5201389</td>\n",
       "      <td>NaN</td>\n",
       "      <td>NaN</td>\n",
       "      <td>NaN</td>\n",
       "      <td>No Reportado</td>\n",
       "      <td>NaN</td>\n",
       "      <td>NaN</td>\n",
       "      <td>No Reportado</td>\n",
       "      <td>NaN</td>\n",
       "      <td>NaN</td>\n",
       "      <td>NaN</td>\n",
       "    </tr>\n",
       "  </tbody>\n",
       "</table>\n",
       "<p>4932628 rows × 11 columns</p>\n",
       "</div>"
      ],
      "text/plain": [
       "             Id Departamento            Municipio  Código DANE  \\\n",
       "0             1        Huila          Campoalegre   41132000.0   \n",
       "1             2         Meta    San Juan De Arama   50683000.0   \n",
       "2             3       Boyacá                Belén   15087000.0   \n",
       "3             4     Casanare                 Pore   85263000.0   \n",
       "4             5       Caldas                Neira   17486000.0   \n",
       "...         ...          ...                  ...          ...   \n",
       "201384  5201385      Vichada  Puerto Carreño (Ct)   99001000.0   \n",
       "201385  5201386      Vichada        Santa Rosalía   99624000.0   \n",
       "201386  5201387      Vichada        Santa Rosalía   99624000.0   \n",
       "201387  5201388      Vichada        Santa Rosalía   99624000.0   \n",
       "201388  5201389          NaN                  NaN          NaN   \n",
       "\n",
       "                Armas Medio      Fecha     Genero Agrupaciones de edad  \\\n",
       "0              No Reportado   1/1/2010   Femenino              Adultos   \n",
       "1              No Reportado   1/1/2010  Masculino              Adultos   \n",
       "2              No Reportado   1/2/2010   Femenino              Adultos   \n",
       "3              No Reportado   1/2/2010  Masculino              Adultos   \n",
       "4              No Reportado   1/3/2010  Masculino              Adultos   \n",
       "...                     ...        ...        ...                  ...   \n",
       "201384  Sin Empleo De Armas  1/28/2023   Femenino              Menores   \n",
       "201385  Sin Empleo De Armas   1/4/2023   Femenino         Adolescentes   \n",
       "201386  Sin Empleo De Armas   1/4/2023   Femenino         Adolescentes   \n",
       "201387  Sin Empleo De Armas   5/8/2023   Femenino         Adolescentes   \n",
       "201388         No Reportado        NaN        NaN         No Reportado   \n",
       "\n",
       "        Cantidad Del Delito            Delito  \\\n",
       "0                       1.0          Abigeato   \n",
       "1                       1.0          Abigeato   \n",
       "2                       1.0          Abigeato   \n",
       "3                       1.0          Abigeato   \n",
       "4                       1.0          Abigeato   \n",
       "...                     ...               ...   \n",
       "201384                  1.0  Delitos Sexuales   \n",
       "201385                  1.0  Delitos Sexuales   \n",
       "201386                  1.0  Delitos Sexuales   \n",
       "201387                  1.0  Delitos Sexuales   \n",
       "201388                  NaN               NaN   \n",
       "\n",
       "                                                 ICON  \n",
       "0          https://i.ibb.co/vvbGxC4/icons8-cow-48.png  \n",
       "1          https://i.ibb.co/vvbGxC4/icons8-cow-48.png  \n",
       "2          https://i.ibb.co/vvbGxC4/icons8-cow-48.png  \n",
       "3          https://i.ibb.co/vvbGxC4/icons8-cow-48.png  \n",
       "4          https://i.ibb.co/vvbGxC4/icons8-cow-48.png  \n",
       "...                                               ...  \n",
       "201384  https://i.ibb.co/6J7TWHr/Delitos-sexuales.png  \n",
       "201385  https://i.ibb.co/6J7TWHr/Delitos-sexuales.png  \n",
       "201386  https://i.ibb.co/6J7TWHr/Delitos-sexuales.png  \n",
       "201387  https://i.ibb.co/6J7TWHr/Delitos-sexuales.png  \n",
       "201388                                            NaN  \n",
       "\n",
       "[4932628 rows x 11 columns]"
      ]
     },
     "execution_count": 3,
     "metadata": {},
     "output_type": "execute_result"
    }
   ],
   "source": [
    "#Importamos y unimos los 6 archivos .csv\n",
    "\n",
    "for i in range(1,7):\n",
    "    df = pd.read_csv(f'data/delitos{i}.csv',encoding='latin1')\n",
    "    if i == 1:\n",
    "        df_total = df\n",
    "    else:\n",
    "        df_total = pd.concat([df_total, df])\n",
    "\n",
    "df_total"
   ]
  },
  {
   "cell_type": "markdown",
   "metadata": {},
   "source": [
    "Debido a un warning en el tipo de datos en la columna 6 hago un drop de los valores nulos de la columna fecha"
   ]
  },
  {
   "cell_type": "code",
   "execution_count": 4,
   "metadata": {},
   "outputs": [],
   "source": [
    "#elimino los valores nulos de la columna fecha\n",
    "df_total = df_total.dropna(subset=['Fecha'])"
   ]
  },
  {
   "cell_type": "code",
   "execution_count": 5,
   "metadata": {},
   "outputs": [],
   "source": [
    "#La columna Id tiene un valor único para cada fila quiero hacer un drop de esa columna y reemplazarla por un índice\n",
    "df_total = df_total.drop(columns=['Id'])\n",
    "df_total = df_total.reset_index(drop=True)\n",
    "df_total = df_total.reset_index()\n",
    "df_total = df_total.rename(columns={'index':'Id'})"
   ]
  },
  {
   "cell_type": "markdown",
   "metadata": {},
   "source": [
    "Revisamos los tipos de datos dentro del dataframe"
   ]
  },
  {
   "cell_type": "code",
   "execution_count": 6,
   "metadata": {},
   "outputs": [
    {
     "data": {
      "text/plain": [
       "Id                        int64\n",
       "Departamento             object\n",
       "Municipio                object\n",
       "Código DANE             float64\n",
       "Armas Medio              object\n",
       "Fecha                    object\n",
       "Genero                   object\n",
       "Agrupaciones de edad     object\n",
       "Cantidad Del Delito     float64\n",
       "Delito                   object\n",
       "ICON                     object\n",
       "dtype: object"
      ]
     },
     "execution_count": 6,
     "metadata": {},
     "output_type": "execute_result"
    }
   ],
   "source": [
    "df_total.dtypes"
   ]
  },
  {
   "cell_type": "code",
   "execution_count": 7,
   "metadata": {},
   "outputs": [
    {
     "data": {
      "text/plain": [
       "array(['Huila', 'Meta', 'Boyacá', 'Casanare', 'Caldas', 'Cauca',\n",
       "       'Antioquia', 'Risaralda', 'Caquetá', 'Santander', 'Sucre',\n",
       "       'Atlántico', 'Valle', 'Guajira', 'Magdalena', 'Norte De Santander',\n",
       "       'Arauca', 'Bolívar', 'Cesar', 'Amazonas', 'Vichada',\n",
       "       'Cundinamarca', 'Nariño', 'Córdoba', 'Putumayo', 'Tolima',\n",
       "       'Quindío', 'Chocó', 'Vaupés', 'Guainía', 'Guaviare', 'San Andrés',\n",
       "       '-', 'No Registra'], dtype=object)"
      ]
     },
     "metadata": {},
     "output_type": "display_data"
    },
    {
     "data": {
      "text/plain": [
       "array(['No Reportado', 'Arma Blanca / Cortopunzante', 'Arma De Fuego',\n",
       "       'Sin Empleo De Armas', 'Contundentes', 'Escopolamina', 'Cortantes',\n",
       "       'Perro', 'Cortopunzantes', 'Punzantes', 'Llave Maestra', 'Jeringa',\n",
       "       'Alucinogenos', 'Directa', 'Palancas', 'Sustancias Toxicas',\n",
       "       'Vehiculo', 'Granada De Mano', 'Carta Extorsiva',\n",
       "       'Llamada Telefonica', 'Mixta', 'Redes Sociales', 'Terrorismo',\n",
       "       'Artefacto Explosivo/Carga Dinamita', 'Mina Antipersona',\n",
       "       'Cuerda/Soga/Cadena', 'Combustible', 'Bolsa Plastica',\n",
       "       'Moto Bomba', 'Paquete Bomba', 'Carro Bomba', 'Persona Bomba',\n",
       "       'Cintas/Cinturon', 'Almohada', 'Cilindro Bomba',\n",
       "       'Artefacto Incendiario', 'Veneno', 'Rocket', 'Quimicos',\n",
       "       'Olla Bomba', 'Gases', 'Granada De Mortero', 'Casa Bomba',\n",
       "       'Medicamentos', 'Acido', 'Polvora(Fuegos Pirotecnicos)',\n",
       "       'Prendas De Vestir', 'Liquidos', 'Vehículo', 'Moto',\n",
       "       'Agua Caliente', 'Papa Explosiva', 'Alimentos Vencidos',\n",
       "       'Licor Adulterado', 'Cuchilla', 'Armas Blancas', 'Cinturon Bomba',\n",
       "       'Arma Traumatica', 'Esposas', 'Petardo Planfetario',\n",
       "       'Bicicleta Bomba', 'Cantina Bomba', 'Caballo Bomba',\n",
       "       'Granada De Fusil', 'Lancha Bomba', 'Balon Bomba', 'Burro Bomba',\n",
       "       'Carta Bomba', 'Perro Bomba'], dtype=object)"
      ]
     },
     "metadata": {},
     "output_type": "display_data"
    },
    {
     "data": {
      "text/plain": [
       "array(['Femenino', 'Masculino', 'No Reporta', nan, '-', 'No Resportado',\n",
       "       'No Reportado', 'No Registra'], dtype=object)"
      ]
     },
     "metadata": {},
     "output_type": "display_data"
    },
    {
     "data": {
      "text/plain": [
       "array(['Adultos', 'Adolescentes', 'No Reportado', 'Menores'], dtype=object)"
      ]
     },
     "metadata": {},
     "output_type": "display_data"
    },
    {
     "data": {
      "text/plain": [
       "array(['Abigeato', 'Hurto Personas', 'Amenazas', 'Extorsion', 'Homicidio',\n",
       "       'Homicidio Accidente De Transito', 'Hurto Automotores',\n",
       "       'Hurto Comercio', 'Hurto Entidades Financieras',\n",
       "       'Hurto Motocicletas', 'Hurto Residencias',\n",
       "       'Lesiones Accidente De Transito', 'Lesiones Personales',\n",
       "       'Pirateria Terrestre', 'Secuestro', 'Terrorismo',\n",
       "       'Violencia Intrafamiliar', 'Delitos Sexuales'], dtype=object)"
      ]
     },
     "metadata": {},
     "output_type": "display_data"
    },
    {
     "data": {
      "text/plain": [
       "array([  1.,   2.,   3.,   4.,   5.,   6.,  10.,   9.,   8.,  15.,   7.,\n",
       "        12.,  14.,  11.,  16.,  18.,  13.,  17.,  21.,  19.,  29.,  20.,\n",
       "        26.,  24.,  23.,  22.,  25.,  31.,  28.,  27.,  30.,  32.,  43.,\n",
       "        33.,  42.,  36.,  44.,  35.,  37.,  45.,  40.,  39.,  46.,  38.,\n",
       "        34.,  41.,  48.,  56.,  50.,  49.,  84.,  82.,  47.,  57.,  69.,\n",
       "        72.,  59.,  92.,  55.,  54.,  75.,  81.,  58.,  60.,  51.,  68.,\n",
       "        65.,  76.,  73.,  66.,  52.,  85.,  53.,  62.,  79.,  94.,  78.,\n",
       "        67.,  80.,  77.,  64.,  74.,  63.,  61.,  70.,  87.,  86.,  71.,\n",
       "        95.,  89.,  88.,  83.,  90.,  96.,  91.,  97., 106.,  93., 105.,\n",
       "       107., 115., 113., 103., 100., 101., 104., 117., 114., 108., 102.,\n",
       "        99., 109., 112., 142., 110.,  98., 120., 111., 128., 137., 121.,\n",
       "       133., 123., 127., 116., 129., 125., 119., 124., 147., 135., 140.,\n",
       "       126., 136., 134., 118., 122., 139., 132., 144., 150., 145., 181.,\n",
       "       170., 232., 198., 196., 195., 200., 176., 174., 130., 131., 143.,\n",
       "       152., 146., 159., 141., 155., 154., 163., 153., 160., 138., 158.,\n",
       "       148., 156., 149., 162., 164., 161., 197., 179., 172., 205., 151.,\n",
       "       171., 180., 219., 183., 167., 214., 234., 228., 166., 190., 216.,\n",
       "       215., 235., 191., 238., 168., 186., 178., 192., 213., 199., 236.,\n",
       "       194., 209., 242., 239., 157., 175., 173., 204., 252., 237., 201.,\n",
       "       222., 184., 212., 165., 217., 300., 177., 182., 241., 266., 269.,\n",
       "       251., 270., 276., 285., 187., 225., 169., 249., 224., 211., 245.,\n",
       "       188., 189., 207., 208., 221., 193.])"
      ]
     },
     "metadata": {},
     "output_type": "display_data"
    }
   ],
   "source": [
    "#valores unicos de las columnas del dataframe descartando las columnas que no nos interesan Id, Código DANE, Fecha y ICON\n",
    "display(df_total['Departamento'].unique())\n",
    "display(df_total['Armas Medio'].unique())\n",
    "display(df_total['Genero'].unique())\n",
    "display(df_total['Agrupaciones de edad'].unique())\n",
    "display(df_total['Delito'].unique())\n",
    "display(df_total['Cantidad Del Delito'].unique())"
   ]
  },
  {
   "cell_type": "markdown",
   "metadata": {},
   "source": [
    "Vemos algunos valores repetidos con errores de redacción en la columna genero, es algo que podemos trabajar posteriormente con una transformación"
   ]
  },
  {
   "cell_type": "code",
   "execution_count": 8,
   "metadata": {},
   "outputs": [
    {
     "data": {
      "text/html": [
       "<div>\n",
       "<style scoped>\n",
       "    .dataframe tbody tr th:only-of-type {\n",
       "        vertical-align: middle;\n",
       "    }\n",
       "\n",
       "    .dataframe tbody tr th {\n",
       "        vertical-align: top;\n",
       "    }\n",
       "\n",
       "    .dataframe thead th {\n",
       "        text-align: right;\n",
       "    }\n",
       "</style>\n",
       "<table border=\"1\" class=\"dataframe\">\n",
       "  <thead>\n",
       "    <tr style=\"text-align: right;\">\n",
       "      <th></th>\n",
       "      <th>Municipio</th>\n",
       "    </tr>\n",
       "  </thead>\n",
       "  <tbody>\n",
       "    <tr>\n",
       "      <th>0</th>\n",
       "      <td>Campoalegre</td>\n",
       "    </tr>\n",
       "    <tr>\n",
       "      <th>1</th>\n",
       "      <td>San Juan De Arama</td>\n",
       "    </tr>\n",
       "    <tr>\n",
       "      <th>2</th>\n",
       "      <td>Belén</td>\n",
       "    </tr>\n",
       "    <tr>\n",
       "      <th>3</th>\n",
       "      <td>Pore</td>\n",
       "    </tr>\n",
       "    <tr>\n",
       "      <th>4</th>\n",
       "      <td>Neira</td>\n",
       "    </tr>\n",
       "    <tr>\n",
       "      <th>...</th>\n",
       "      <td>...</td>\n",
       "    </tr>\n",
       "    <tr>\n",
       "      <th>1022</th>\n",
       "      <td>Taraira</td>\n",
       "    </tr>\n",
       "    <tr>\n",
       "      <th>1023</th>\n",
       "      <td>No Registra</td>\n",
       "    </tr>\n",
       "    <tr>\n",
       "      <th>1024</th>\n",
       "      <td>-</td>\n",
       "    </tr>\n",
       "    <tr>\n",
       "      <th>1025</th>\n",
       "      <td>No Reportado</td>\n",
       "    </tr>\n",
       "    <tr>\n",
       "      <th>1026</th>\n",
       "      <td>NaN</td>\n",
       "    </tr>\n",
       "  </tbody>\n",
       "</table>\n",
       "<p>1027 rows × 1 columns</p>\n",
       "</div>"
      ],
      "text/plain": [
       "              Municipio\n",
       "0           Campoalegre\n",
       "1     San Juan De Arama\n",
       "2                 Belén\n",
       "3                  Pore\n",
       "4                 Neira\n",
       "...                 ...\n",
       "1022            Taraira\n",
       "1023        No Registra\n",
       "1024                  -\n",
       "1025       No Reportado\n",
       "1026                NaN\n",
       "\n",
       "[1027 rows x 1 columns]"
      ]
     },
     "execution_count": 8,
     "metadata": {},
     "output_type": "execute_result"
    }
   ],
   "source": [
    "#Valores unicos de la columna Municipio\n",
    "df_municipios = df_total['Municipio'].unique()\n",
    "df_municipios = pd.DataFrame(df_municipios, columns=['Municipio'])\n",
    "df_municipios"
   ]
  },
  {
   "cell_type": "markdown",
   "metadata": {},
   "source": [
    "De igual forma vemos el mismo error en la columna de municipios, no es un error demasiado relevante para nosotros"
   ]
  },
  {
   "cell_type": "code",
   "execution_count": 9,
   "metadata": {},
   "outputs": [
    {
     "data": {
      "text/plain": [
       "Id                           0\n",
       "Departamento                 0\n",
       "Municipio                    2\n",
       "Código DANE                  3\n",
       "Armas Medio                  0\n",
       "Fecha                        0\n",
       "Genero                  662921\n",
       "Agrupaciones de edad         0\n",
       "Cantidad Del Delito          0\n",
       "Delito                       0\n",
       "ICON                         0\n",
       "dtype: int64"
      ]
     },
     "execution_count": 9,
     "metadata": {},
     "output_type": "execute_result"
    }
   ],
   "source": [
    "#identificamos valores nulos\n",
    "df_total.isnull().sum()\n"
   ]
  },
  {
   "cell_type": "markdown",
   "metadata": {},
   "source": [
    "Revisando los valores nulos dentro de los delitos y teniendo contexto anterior de los datos, vemos una cantidad grande de valores nulos en la columna genero, muchos de estos se pueden deber a que en gran cantidad de los casos el genero puede llegar a ser desconocido ya que no se identifica al acusado o sencillamente no aplica para el tipo de delito, posteriormente puede ser reemplazado por el valor de No Reportado"
   ]
  },
  {
   "cell_type": "markdown",
   "metadata": {},
   "source": [
    "Realizaremos unas transformaciones simples a los valores que vimos extraños para tener un dataset final trabajable"
   ]
  },
  {
   "cell_type": "code",
   "execution_count": 10,
   "metadata": {},
   "outputs": [],
   "source": [
    "#reemplazamos los valores No Registra por No Reportado en la columna Municipio\n",
    "df_total['Municipio'] = df_total['Municipio'].replace('No Registra', 'No Reportado')\n",
    "df_total['Municipio'] = df_total['Municipio'].replace('-', 'No Reportado')\n",
    "df_total['Municipio'] = df_total['Municipio'].replace('NaN', 'No Reportado')\n",
    "df_total['Genero'] = df_total['Genero'].replace('No Reporta', 'No Reportado')\n",
    "df_total['Genero'] = df_total['Genero'].replace('No Resportado', 'No Reportado')\n",
    "df_total['Genero'] = df_total['Genero'].replace('No Registra', 'No Reportado')\n",
    "df_total['Genero'] = df_total['Genero'].replace('-', 'No Reportado')\n",
    "#reemplazamos los valores nulos por No Reportado en la columna Genero\n",
    "df_total['Genero'] = df_total['Genero'].fillna('No Reportado')\n",
    "df_total['Municipio'] = df_total['Municipio'].fillna('No Reportado')\n",
    "df_total['Código DANE'] = df_total['Código DANE'].fillna('No Reportado')"
   ]
  },
  {
   "cell_type": "markdown",
   "metadata": {},
   "source": [
    "### Ya con está información tenemos un dataframe decente para trabajar "
   ]
  }
 ],
 "metadata": {
  "kernelspec": {
   "display_name": "base",
   "language": "python",
   "name": "python3"
  },
  "language_info": {
   "codemirror_mode": {
    "name": "ipython",
    "version": 3
   },
   "file_extension": ".py",
   "mimetype": "text/x-python",
   "name": "python",
   "nbconvert_exporter": "python",
   "pygments_lexer": "ipython3",
   "version": "3.11.7"
  }
 },
 "nbformat": 4,
 "nbformat_minor": 2
}
